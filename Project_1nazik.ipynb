{
 "cells": [
  {
   "cell_type": "markdown",
   "id": "85949d56-a2d6-447f-acdc-b4d4a7f9dc96",
   "metadata": {},
   "source": [
    "# Project 1 (EDA)\n",
    "\n",
    "## Objective:\n",
    "    - The dataset has to be cleaned from incorrect data types, missing values and outliers.\n",
    "\n",
    "#### Here is a description of the data:\n",
    "\n",
    "Title: University Performance\n",
    "\n",
    "#### **Columns:**\n",
    "\n",
    "`StudentID` - This can remain an `Object` data type. You may ignore it.\n",
    "\n",
    "`Gender` - Values are Male or Female\n",
    "\n",
    "`Age` - Values are between 18 - 24 years old\n",
    "\n",
    "`StudyHours` - Values are between 0 hours - 40 hours\n",
    "\n",
    "`Attendance` - Values are between 0% - 100%  \n",
    "\n",
    "`PastFailures` - Ranges for values are (0 - 0 Failiures, 1 - 1-3 Failures, 2 - 4-6 Failures, 3 - 7-10 Failures, 4 - 10+ Failures)\n",
    "\n",
    "`AssignmentsCompleted` - Values are between 0 - 20\n",
    "\n",
    "`GroupParticipation` - Values of Low, Medium and High\n",
    "\n",
    "`ExtracurricularActivities` - Binary values of Yes or No\n",
    "\n",
    "`FinalExamResult` - Binary values of Pass or Fail\n",
    "\n",
    "\n",
    "<br>\n",
    "\n",
    "### Here is a guideline if you need to refer to:\n",
    "\n",
    "1. import the `pandas` library using\n",
    "```python\n",
    "import pandas as pd\n",
    "```\n",
    "2. Use the `read_csv()` function from pandas to read the dataset and print it out.\n",
    "```python\n",
    "dataset = pd.read_csv('filepath')\n",
    "```\n",
    "4. Check for the data types using `.info()` or `.dtypes` and fix the incorrect ones using the `.as_type('nameofdatatype')`\n",
    "6. Check for missing values using `.info()` function and fix them\n",
    "7. Check for outliers using the `.boxplot()` graph or IQR method and fix them (you will need to import library matplotlib.pyplot to use boxplot)\n",
    "```python\n",
    "import matplotlib.pyplot as plt\n",
    "\n",
    "# Create box plots for each column\n",
    "data_dropped.boxplot(figsize=(15, 10), vert=True)  # Set vert=False for horizontal box plots\n",
    "plt.title('Box Plots of All Columns to Identify Outliers')\n",
    "plt.show()\n",
    "```\n",
    "<br>\n",
    "\n",
    "**Deadline: 16th (Friday)**\n",
    "\n",
    "kindly upload the notebook to this drive: https://drive.google.com/drive/folders/1sOzSOuIcwVmHJ3x4PrRSmbZ90rUIufCJ?usp=sharing"
   ]
  },
  {
   "cell_type": "code",
   "execution_count": null,
   "id": "3302663b-a7e4-40fb-af15-07c016dd6246",
   "metadata": {},
   "outputs": [],
   "source": [
    "#'StudentID', 'Gender',PastFailures, 'GroupParticipation', 'ExtracurricularActivities', 'FinalExamResult'"
   ]
  },
  {
   "cell_type": "code",
   "execution_count": null,
   "id": "c9c4a18f-e092-4329-a42c-23a4c2d7c2b4",
   "metadata": {},
   "outputs": [],
   "source": [
    "import pandas as pd\n",
    "data = pd.read_csv('university_performance.csv')\n",
    "data"
   ]
  },
  {
   "cell_type": "code",
   "execution_count": null,
   "id": "8ae30156-3c17-4189-b41e-3dd2ce5abbab",
   "metadata": {},
   "outputs": [],
   "source": [
    "#reading the dataset"
   ]
  },
  {
   "cell_type": "code",
   "execution_count": null,
   "id": "056b285a-1ff3-4745-97e8-1e8c7b1da522",
   "metadata": {},
   "outputs": [],
   "source": [
    "data.head()"
   ]
  },
  {
   "cell_type": "code",
   "execution_count": null,
   "id": "31284ca8-ca2c-47b6-a16a-3e249743e4da",
   "metadata": {},
   "outputs": [],
   "source": [
    "columns = ['StudentID', 'Gender', 'Age', 'Attendance']\n",
    "data[columns]"
   ]
  },
  {
   "cell_type": "code",
   "execution_count": null,
   "id": "9e144211-2284-4b5d-9e68-ac997a3313a7",
   "metadata": {},
   "outputs": [],
   "source": [
    "#explore the dataset"
   ]
  },
  {
   "cell_type": "code",
   "execution_count": null,
   "id": "fcb1faf2-5a8a-43d4-98d7-cf642f48444f",
   "metadata": {},
   "outputs": [],
   "source": [
    "data.info()"
   ]
  },
  {
   "cell_type": "code",
   "execution_count": null,
   "id": "f6f46f5f-a724-4d78-884a-b1d38f6cf683",
   "metadata": {},
   "outputs": [],
   "source": [
    "data.shape"
   ]
  },
  {
   "cell_type": "code",
   "execution_count": null,
   "id": "866e26fd-a638-4d0d-81e5-7ecd8c11464f",
   "metadata": {},
   "outputs": [],
   "source": [
    "data.describe()"
   ]
  },
  {
   "cell_type": "code",
   "execution_count": null,
   "id": "372000d0-002c-4a05-a199-8da72e21747a",
   "metadata": {},
   "outputs": [],
   "source": [
    "data.dtypes"
   ]
  },
  {
   "cell_type": "code",
   "execution_count": null,
   "id": "e80e210e-3069-46ff-9dd3-83af2eaf12e9",
   "metadata": {},
   "outputs": [],
   "source": [
    "obj_data = ['StudentID', 'Gender', 'GroupParticipation', 'ExtracurricularActivities', 'FinalExamResult']   \n",
    "obj_data"
   ]
  },
  {
   "cell_type": "code",
   "execution_count": null,
   "id": "312184ad-8f37-4dcb-b2d6-1780786ed328",
   "metadata": {},
   "outputs": [],
   "source": [
    "categorical_data = obj_data + ['PastFailures']\n",
    "categorical_data"
   ]
  },
  {
   "cell_type": "code",
   "execution_count": null,
   "id": "dcae4ea2-84cc-4584-a832-202d01ccb3d5",
   "metadata": {},
   "outputs": [],
   "source": [
    "#coverting these datatypes to categorical"
   ]
  },
  {
   "cell_type": "code",
   "execution_count": null,
   "id": "c3437983-056b-4028-b5b8-933eb789b77b",
   "metadata": {},
   "outputs": [],
   "source": [
    "data_converted = data.copy()\n",
    "data_converted[categorical_data]=data_converted[categorical_data].astype('category')\n",
    "data_converted.info()"
   ]
  },
  {
   "cell_type": "code",
   "execution_count": null,
   "id": "63159c81-4cc2-4a72-86aa-423d78a3f495",
   "metadata": {},
   "outputs": [],
   "source": [
    "#now successfully converted to categorical data"
   ]
  },
  {
   "cell_type": "code",
   "execution_count": null,
   "id": "ab7d2f07-6be1-454d-8cf5-01239e99cc78",
   "metadata": {},
   "outputs": [],
   "source": [
    "#handling with missing data"
   ]
  },
  {
   "cell_type": "code",
   "execution_count": null,
   "id": "784c16dc-e77c-4d7b-8b6c-a1a8c169d245",
   "metadata": {},
   "outputs": [],
   "source": [
    "data_converted.isnull().sum()"
   ]
  },
  {
   "cell_type": "code",
   "execution_count": null,
   "id": "44fb6adc-a80c-49e4-828d-13ae12912f7c",
   "metadata": {},
   "outputs": [],
   "source": [
    "\n",
    "missing_count = data_converted['PastFailures'].isnull().sum()\n",
    "\n",
    "missing_per = (missing_count/ len(data_converted['PastFailures']))*100\n",
    "\n",
    "print(f'Missing count      : {missing_count}')\n",
    "print(f'Missing percentage : {missing_per}')"
   ]
  },
  {
   "cell_type": "code",
   "execution_count": null,
   "id": "be0dd44f-fa41-4bd9-9cd7-548ba94ee219",
   "metadata": {},
   "outputs": [],
   "source": [
    "data_filled = data_converted.copy()\n",
    "\n",
    "#data_filled = data_filled.fillna(subset='PastFailures')\n",
    "\n",
    "data_filled['PastFailures']=data_filled['PastFailures'].fillna(data_filled['PastFailures'].mode()[0])"
   ]
  },
  {
   "cell_type": "code",
   "execution_count": null,
   "id": "fe5094a6-77a2-4bc4-b064-2a91a4cbfb31",
   "metadata": {},
   "outputs": [],
   "source": [
    "data_filled.isnull().sum()"
   ]
  },
  {
   "cell_type": "code",
   "execution_count": null,
   "id": "ae40c796-d534-43e2-8df8-c221dbf5480e",
   "metadata": {},
   "outputs": [],
   "source": [
    "missing_count1 =data_filled['PastFailures'].isnull().sum()\n",
    "missing_percent1 = (missing_count1 / len(data_filled['PastFailures']))*100\n",
    "\n",
    "print(f'missing count      : {missing_count1}')\n",
    "print(f'missing percentage :{missing_percent1}')"
   ]
  },
  {
   "cell_type": "code",
   "execution_count": null,
   "id": "582c9d95-0157-45ac-838a-a2610f41b005",
   "metadata": {},
   "outputs": [],
   "source": [
    "data_filled"
   ]
  },
  {
   "cell_type": "code",
   "execution_count": null,
   "id": "4811b38a-df08-4f82-9113-657b5289c46b",
   "metadata": {},
   "outputs": [],
   "source": [
    "data_filled.shape"
   ]
  },
  {
   "cell_type": "code",
   "execution_count": null,
   "id": "2703c365-ecc6-4f29-9277-6da7313e469d",
   "metadata": {},
   "outputs": [],
   "source": [
    "data_filled.dtypes"
   ]
  },
  {
   "cell_type": "code",
   "execution_count": null,
   "id": "45f54419-29bb-4b29-91c3-24ab06fae386",
   "metadata": {},
   "outputs": [],
   "source": [
    "#now we need to remove unwanted outliers"
   ]
  },
  {
   "cell_type": "code",
   "execution_count": null,
   "id": "ef41b2b5-d084-4c7d-9077-d076ee2f0399",
   "metadata": {},
   "outputs": [],
   "source": [
    "import matplotlib.pyplot as plt\n",
    "data_converted.boxplot(figsize=(15,10) , vert = False)\n",
    "plt.title('Box Plots of All Columns to Identify Outliers')\n",
    "plt.show()"
   ]
  },
  {
   "cell_type": "code",
   "execution_count": null,
   "id": "3bb26acf-a285-4c05-af0a-f376288bad84",
   "metadata": {},
   "outputs": [],
   "source": [
    "data_filtered = data_converted[(data_converted['StudyHours'] <=40 )&(data_converted['Age'] <=24)] "
   ]
  },
  {
   "cell_type": "code",
   "execution_count": null,
   "id": "268ba242-c9b3-4c35-adb0-61c9b7493912",
   "metadata": {},
   "outputs": [],
   "source": [
    "#data_filtered = data_converted[data_converted['Age'] <=24] "
   ]
  },
  {
   "cell_type": "code",
   "execution_count": null,
   "id": "f19f09e2-40d6-492b-b603-55efba4cdd32",
   "metadata": {},
   "outputs": [],
   "source": [
    "data_filtered.boxplot(figsize=(15,10),vert = False)\n",
    "plt.title('Box Plots of All Columns to Identify Outliers')\n",
    "plt.show()                      "
   ]
  },
  {
   "cell_type": "code",
   "execution_count": null,
   "id": "13f1bba0-ce21-4d40-af29-2dee3e1c1317",
   "metadata": {},
   "outputs": [],
   "source": []
  }
 ],
 "metadata": {
  "kernelspec": {
   "display_name": "Python 3 (ipykernel)",
   "language": "python",
   "name": "python3"
  },
  "language_info": {
   "codemirror_mode": {
    "name": "ipython",
    "version": 3
   },
   "file_extension": ".py",
   "mimetype": "text/x-python",
   "name": "python",
   "nbconvert_exporter": "python",
   "pygments_lexer": "ipython3",
   "version": "3.12.4"
  }
 },
 "nbformat": 4,
 "nbformat_minor": 5
}
